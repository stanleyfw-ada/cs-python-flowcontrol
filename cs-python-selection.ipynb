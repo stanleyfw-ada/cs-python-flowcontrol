{
 "cells": [
  {
   "cell_type": "markdown",
   "metadata": {},
   "source": [
    "# Flow Control - Selection\n",
    "\n",
    "Sometimes we only want a program to execute code under certain circumstances.  We call this selection.  The most commonly used way of doing this is using if.  Here we say if a condition is true execute some code. \n",
    "First we need to make sure we are happy what a condition is.  A boolean condition is one that can have only two values true or false. \n",
    "\n",
    "**The boolean comparison operators are as follows:**\n",
    " \n",
    "\n",
    "\n",
    "| Operator | Meaning                  |\n",
    "|----------|--------------------------|\n",
    "| ==       | Equal to                 |\n",
    "| !=       | Not equal to             |\n",
    "| <        | Less than                |\n",
    "| <=       | Less than or equal to    |\n",
    "| >        | Greater than             |\n",
    "| >=       | Greater than or equal to |\n",
    "\n"
   ]
  },
  {
   "cell_type": "code",
   "execution_count": 1,
   "metadata": {},
   "outputs": [
    {
     "name": "stdout",
     "output_type": "stream",
     "text": [
      "This prints if letter is a\n"
     ]
    }
   ],
   "source": [
    "#run this code\n",
    "letter = 'a'\n",
    "if letter =='a':\n",
    "    print('This prints if letter is a')"
   ]
  },
  {
   "cell_type": "markdown",
   "metadata": {},
   "source": [
    "We can add as many statements we want inside the **if**.  Each should be indented.\n",
    "We can tell the computer to do something different when the condition isn’t true using the else keyword."
   ]
  },
  {
   "cell_type": "code",
   "execution_count": 2,
   "metadata": {},
   "outputs": [
    {
     "name": "stdout",
     "output_type": "stream",
     "text": [
      "This prints if letter is a\n"
     ]
    }
   ],
   "source": [
    "#run this code\n",
    "if letter =='a':\n",
    "    print('This prints if letter is a')\n",
    "else:\n",
    "    print('This prints if the letter is not an a')"
   ]
  },
  {
   "cell_type": "markdown",
   "metadata": {},
   "source": [
    "Now lets change the value of the variable:"
   ]
  },
  {
   "cell_type": "code",
   "execution_count": 3,
   "metadata": {},
   "outputs": [
    {
     "name": "stdout",
     "output_type": "stream",
     "text": [
      "This prints if the letter is not an a\n"
     ]
    }
   ],
   "source": [
    "#run this code\n",
    "letter = 'b'\n",
    "if letter =='a':\n",
    "    print('This prints if letter is a')\n",
    "else:\n",
    "    print('This prints if the letter is not an a')"
   ]
  },
  {
   "cell_type": "markdown",
   "metadata": {},
   "source": [
    "### Task 1:\n",
    "Write a program that tells the user what to wear (shorts, trousers, hat, coat, etc that you choose) based on the temperature that they input.\n",
    "\n",
    "Use well-named variable(s), constants(s), string(s), type conversion, a complex IF statement, comparison and logical operators, and good input and output messages."
   ]
  },
  {
   "cell_type": "code",
   "execution_count": 1,
   "metadata": {},
   "outputs": [
    {
     "name": "stdout",
     "output_type": "stream",
     "text": [
      "What is the temperature today? 17\n",
      "You should wear a hoodie/shirt and jeans today. Have a great day!\n"
     ]
    }
   ],
   "source": [
    "# add your code here\n",
    "temp = int(input(\"What is the temperature today? \"))\n",
    "if temp < 10:\n",
    "    print(\"You should wear a jacket, a hat, gloves and a scarf today. Stay warm!\")\n",
    "elif temp < 15:\n",
    "    print(\"You should wear a jumper today. Stay warm!\")\n",
    "elif temp > 25:\n",
    "    print(\"You should wear a short-sleeve t-shirt today. Stay cool!\")\n",
    "elif temp > 30:\n",
    "    print(\"You should wear sunscreen, shorts, a t-shirt/vest and you should carry water with you today. Stay cool!\")\n",
    "else:\n",
    "    print (\"You should wear a hoodie/shirt and jeans today. Have a great day!\")"
   ]
  },
  {
   "cell_type": "markdown",
   "metadata": {},
   "source": [
    "### Logical operators and True and False"
   ]
  },
  {
   "cell_type": "code",
   "execution_count": 2,
   "metadata": {},
   "outputs": [
    {
     "data": {
      "text/plain": [
       "True"
      ]
     },
     "execution_count": 2,
     "metadata": {},
     "output_type": "execute_result"
    }
   ],
   "source": [
    "x = 2\n",
    "1 < x < 3\n",
    "# Run this cell block and observe the result.\n"
   ]
  },
  {
   "cell_type": "code",
   "execution_count": null,
   "metadata": {},
   "outputs": [],
   "source": [
    "#What is happening here? Write here as a comment what is happening.\n",
    "#It is checking if the statement/s is/are true. So it's asking \"Is 1 smaller than 2?\" and then \"Is 2 smaller than 3\"\" as the variable x has the value of 2"
   ]
  },
  {
   "cell_type": "code",
   "execution_count": 3,
   "metadata": {},
   "outputs": [
    {
     "data": {
      "text/plain": [
       "False"
      ]
     },
     "execution_count": 3,
     "metadata": {},
     "output_type": "execute_result"
    }
   ],
   "source": [
    "x = 2\n",
    "10 < x < 20\n",
    "# Run this cell block and observe the result."
   ]
  },
  {
   "cell_type": "code",
   "execution_count": null,
   "metadata": {},
   "outputs": [],
   "source": [
    "#What is happening here? Write here as a comment what is happening.\n",
    "#It is checking if the statement/s is/are true. So it's asking \"Is 10 smaller than 2?\" and then \"Is 2 smaller than 20\"\" as the variable x has the value of 2"
   ]
  },
  {
   "cell_type": "code",
   "execution_count": 1,
   "metadata": {},
   "outputs": [
    {
     "data": {
      "text/plain": [
       "True"
      ]
     },
     "execution_count": 1,
     "metadata": {},
     "output_type": "execute_result"
    }
   ],
   "source": [
    "x = 2\n",
    "3 > x <= 2\n",
    "# Run this cell block and observe the result."
   ]
  },
  {
   "cell_type": "code",
   "execution_count": null,
   "metadata": {},
   "outputs": [],
   "source": [
    "#What is happening here? Write here as a comment what is happening.\n",
    "#It is checking if the statement/s is/are true. So it's asking \"Is 3 bigger than 2?\" and then \"Is 2 smaller than or equal to 2\"\" as the variable x has the value of 2"
   ]
  },
  {
   "cell_type": "code",
   "execution_count": 2,
   "metadata": {},
   "outputs": [
    {
     "data": {
      "text/plain": [
       "True"
      ]
     },
     "execution_count": 2,
     "metadata": {},
     "output_type": "execute_result"
    }
   ],
   "source": [
    "x = 2\n",
    "2 == x < 4\n",
    "# Run this cell block and observe the result."
   ]
  },
  {
   "cell_type": "code",
   "execution_count": null,
   "metadata": {},
   "outputs": [],
   "source": [
    "#What is happening here? Write here as a comment what is happening.\n",
    "#It is checking if the statement/s is/are true. So it's asking \"Is 2 equal to 2?\" and then \"Is 2 smaller than 4\"\" as the variable x has the value of 2"
   ]
  },
  {
   "cell_type": "markdown",
   "metadata": {},
   "source": [
    "### A Note on Indentation\n",
    "When you start a new line after a colon your code (if writing with an IDE or code editor) you should find your cursor indented ready to start typing.  Lines will keep indenting until you press backspace.  Python knows that anything indented is inside the structure with the colon - in this case the **if**.  Indenting is considered good practice in all programming languages as it makes code easier to read but in Python it is even more important as it affects how the code is interpreted and you will get errors if not indented correctly."
   ]
  },
  {
   "cell_type": "code",
   "execution_count": null,
   "metadata": {},
   "outputs": [],
   "source": [
    "# input any number between 1 and 100\n",
    "x=int(input('Enter a number between 1 and 100: '))\n",
    "# check the validity of the number\n",
    "if x>=1 and x<=100:\n",
    "    print('You have entered a valid number')\n",
    "else:\n",
    "    print('Your number is not valid')"
   ]
  },
  {
   "cell_type": "markdown",
   "metadata": {},
   "source": [
    "### Question \n",
    "\n",
    "**A common mistake would be to write the if line as if x>=1 and <=100 missing out the second x.  Remove the x and check out the result. Does it generate an error?** "
   ]
  },
  {
   "cell_type": "code",
   "execution_count": 4,
   "metadata": {},
   "outputs": [],
   "source": [
    "#  YES       "
   ]
  },
  {
   "cell_type": "markdown",
   "metadata": {},
   "source": [
    "#### Logical operators\n",
    "For more complex conditions we can use AND, OR and NOT. \n",
    "\n",
    "AND : both conditions must be TRUE\n",
    "\n",
    "OR : one condition must be TRUE\n",
    "\n",
    "NOT : only applies to one condition - the opposite"
   ]
  },
  {
   "cell_type": "markdown",
   "metadata": {},
   "source": [
    "## Psuedocode example for IF/ELSE statements\n",
    "\n",
    "IF age > 12 AND height > 3 THEN\n",
    "\n",
    "  OUTPUT “You can ride the roller coaster”\n",
    "  \n",
    "END IF\n",
    "\n",
    "IF age <13 OR age > 19 THEN\n",
    "\n",
    "  OUTPUT “You are not eligible for teen discount”\n",
    "  \n",
    "END IF\n",
    "\n",
    "IF NOT ((age > 12) AND (height > 3)) THEN\n",
    "\n",
    "  OUTPUT “You cannot ride the roller coaster”\n",
    "  \n",
    "END IF"
   ]
  },
  {
   "cell_type": "code",
   "execution_count": null,
   "metadata": {},
   "outputs": [],
   "source": [
    "# Could you explain the logic for the above program as a comment?\n",
    "#You can only get the discount if you are elegible for the ride. If you can not get on the ride then there is no need for a discount. "
   ]
  },
  {
   "cell_type": "markdown",
   "metadata": {},
   "source": [
    "### Task 2:\n",
    "\n",
    "The grade boundaries for a test are:\n",
    "U -  0\n",
    "D – 40\n",
    "C – 50\n",
    "B – 60\n",
    "A – 70\n",
    "\n",
    "Write a Python program that asks for a mark and then says what grade it is worth."
   ]
  },
  {
   "cell_type": "code",
   "execution_count": 4,
   "metadata": {},
   "outputs": [
    {
     "name": "stdout",
     "output_type": "stream",
     "text": [
      "Test Score: 40\n",
      "Grade D\n"
     ]
    }
   ],
   "source": [
    "# write your code here\n",
    "tscore = int(input(\"Test Score: \"))\n",
    "\n",
    "if tscore < 40:\n",
    "    print(\"Grade U\")\n",
    "elif tscore >= 40 and tscore < 50:\n",
    "    print(\"Grade D\")\n",
    "elif tscore >= 50 and tscore < 60:\n",
    "    print(\"Grade C\")\n",
    "elif tscore >= 60 and tscore < 70:\n",
    "    print(\"Grade B\")\n",
    "else:\n",
    "    print(\"Grade A\")"
   ]
  },
  {
   "cell_type": "markdown",
   "metadata": {},
   "source": [
    "### Task 3:\n",
    "Write a Python program which asks the user to enter the cost of two items, adds the two costs and if the cost is greater than £10.00, displays a message “Sorry, too much”. Otherwise it displays the change due from £10.00."
   ]
  },
  {
   "cell_type": "code",
   "execution_count": 2,
   "metadata": {},
   "outputs": [
    {
     "name": "stdout",
     "output_type": "stream",
     "text": [
      "Cost of the first item: 4.6\n",
      "Cost of the second item: 1.64\n",
      "6.239999999999999\n"
     ]
    }
   ],
   "source": [
    "# write your code here\n",
    "cost1 = float(input(\"Cost of the first item: \"))\n",
    "cost2 = float(input(\"Cost of the second item: \"))\n",
    "\n",
    "price = cost1 + cost2\n",
    "change = price%10.00\n",
    "\n",
    "if price > 10.00:\n",
    "    print(\"Sorry, too much\")\n",
    "else:\n",
    "    print(change)"
   ]
  },
  {
   "cell_type": "markdown",
   "metadata": {},
   "source": [
    "### Task 4: Using IF-ELSE statements, write the Python program for the following problems.\n",
    "\n",
    "1) Allow entry to a film at the cinema if the user is older than 18 or if they are accompanied by an adult.\n",
    "\n",
    "2) Allow the user to come to your party if they are a boy and they like pizza.\n",
    "\n",
    "3) Remind the user to take an umbrella if the temperature is higher than 17 degrees and the chance of rain is higher than 80%"
   ]
  },
  {
   "cell_type": "code",
   "execution_count": 1,
   "metadata": {},
   "outputs": [
    {
     "name": "stdout",
     "output_type": "stream",
     "text": [
      "What is your age? 17\n",
      "Are you a boy or a girl? Enter b/g: b\n",
      "Do you like pizza? Enter y/n:y\n",
      "What is the temperature today?19\n",
      "What is the chance that it will rain? [in %}87\n",
      "Are you with an adult? Enter y/n:y\n",
      "You can see the movie!\n",
      "You can come to my party!\n",
      "You should take an umbrella with you! Have fun!\n"
     ]
    }
   ],
   "source": [
    "# write your code here\n",
    "age = int(input(\"What is your age? \"))\n",
    "b0g = input(\"Are you a boy or a girl? Enter b/g: \")\n",
    "pizza = input(\"Do you like pizza? Enter y/n:\")\n",
    "temp = int(input(\"What is the temperature today?\"))\n",
    "c0r = int(input(\"What is the chance that it will rain? [in %}\"))\n",
    "\n",
    "if age > 18:\n",
    "    print(\"You are allowed to see the movie!\")\n",
    "else:\n",
    "    adult = input(\"Are you with an adult? Enter y/n:\")\n",
    "    if adult == \"y\":\n",
    "        print(\"You can see the movie!\")\n",
    "    else:\n",
    "        print(\"You can not see the movie.\")\n",
    "\n",
    "if b0g == \"b\" and pizza == \"y\":\n",
    "    print(\"You can come to my party!\")\n",
    "else:\n",
    "    print(\"You can not come to my party.\")\n",
    "    \n",
    "if temp > 17 and c0r > 80:\n",
    "    print(\"You should take an umbrella with you! Have fun!\")\n",
    "else:\n",
    "    print(\"You don't need to take an umbrella! Have fun!\")"
   ]
  },
  {
   "cell_type": "code",
   "execution_count": null,
   "metadata": {},
   "outputs": [],
   "source": []
  }
 ],
 "metadata": {
  "kernelspec": {
   "display_name": "Python 3",
   "language": "python",
   "name": "python3"
  },
  "language_info": {
   "codemirror_mode": {
    "name": "ipython",
    "version": 3
   },
   "file_extension": ".py",
   "mimetype": "text/x-python",
   "name": "python",
   "nbconvert_exporter": "python",
   "pygments_lexer": "ipython3",
   "version": "3.6.8"
  }
 },
 "nbformat": 4,
 "nbformat_minor": 2
}
